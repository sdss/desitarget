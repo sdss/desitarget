{
 "cells": [
  {
   "cell_type": "markdown",
   "metadata": {},
   "source": [
    "# Target selection bits and bitmasks#\n",
    "### Author: Adam D. Myers, University of Wyoming ###\n",
    "\n",
    "This Notebook describes how to work with target selection bitmasks for DESI."
   ]
  },
  {
   "cell_type": "markdown",
   "metadata": {},
   "source": [
    "# Setting up your environment #\n",
    "\n",
    "First, ensure that your environment matches a standard DESI environment. For example:\n",
    "\n",
    "```\n",
    "module unload desimodules\n",
    "source /project/projectdirs/desi/software/desi_environment.sh 18.7\n",
    "```\n",
    "\n",
    "`desitarget` relies on `desiutil` and `desimodel`, so you may also need to set up a wider DESI environment, as detailed at:\n",
    "\n",
    "https://desi.lbl.gov/trac/wiki/Pipeline/GettingStarted/Laptop/JuneMeeting\n",
    "\n",
    "It may also be useful to set up some additional environment variables that are used in some versions of the `desitarget` code (you could also place these in your `.bash_profile.ext` file):\n",
    "\n",
    "```\n",
    "export DESIMODEL=$HOME/git/desimodel\n",
    "export DUST_DIR=/project/projectdirs/desi/software/edison/dust/v0_1/maps\n",
    "export GAIA_DIR=/project/projectdirs/desi/target/gaia_dr2\n",
    "```\n",
    "\n",
    "Here, I've set `DESIMODEL` to a *reasonable* location. For a more detailed description of checking out the `desimodel` data files from svn see:\n",
    "\n",
    "https://desi.lbl.gov/trac/wiki/Pipeline/GettingStarted/Laptop/JuneMeeting#Datafilesfordesimodel"
   ]
  },
  {
   "cell_type": "markdown",
   "metadata": {},
   "source": [
    "# Understanding the desitarget bitmasks #\n",
    "\n",
    "## Main Survey bitmasks ##\n",
    "\n",
    "The critical values that `select_targets` produces are the `DESI_TARGET`, `BGS_TARGET` and `MWS_TARGET` bit masks, which contain the target bits for the DESI *main* (or \"*dark time*\") survey and the *Bright Galaxy Survey* and *Milky Way Survey* respectively. Let's examine the masks that correspond to these surveys."
   ]
  },
  {
   "cell_type": "code",
   "execution_count": 91,
   "metadata": {},
   "outputs": [
    {
     "name": "stdout",
     "output_type": "stream",
     "text": [
      "desi_mask:\n",
      "  - [LRG,              0, \"LRG\", {'obsconditions': 'DARK', 'priorities': {'UNOBS': 3200, 'DONE': 2, 'OBS': 1, 'DONOTOBSERVE': 0, 'MORE_ZWARN': 3200, 'MORE_ZGOOD': 3200}, 'numobs': 0}]\n",
      "  - [ELG,              1, \"ELG\", {'obsconditions': 'DARK|GRAY', 'priorities': {'UNOBS': 3000, 'DONE': 2, 'OBS': 1, 'DONOTOBSERVE': 0, 'MORE_ZWARN': 3000, 'MORE_ZGOOD': 3000}, 'numobs': 1}]\n",
      "  - [QSO,              2, \"QSO\", {'obsconditions': 'DARK', 'priorities': {'UNOBS': 3400, 'MORE_ZGOOD': 3500, 'DONE': 2, 'OBS': 1, 'DONOTOBSERVE': 0, 'MORE_ZWARN': 3400}, 'numobs': 4}]\n",
      "  - [LRG_1PASS,        3, \"LRG to be observed once\", {'obsconditions': 'DARK', 'priorities': {'UNOBS': 3200, 'DONE': 2, 'OBS': 1, 'DONOTOBSERVE': 0, 'MORE_ZWARN': 3200, 'MORE_ZGOOD': 3200}, 'numobs': 1}]\n",
      "  - [LRG_2PASS,        4, \"LRG to be observed twice\", {'obsconditions': 'DARK', 'priorities': {'UNOBS': 3200, 'DONE': 2, 'OBS': 1, 'DONOTOBSERVE': 0, 'MORE_ZWARN': 3200, 'MORE_ZGOOD': 3200}, 'numobs': 2}]\n",
      "  - [LRG_NORTH,        8, \"LRG cuts tuned for Bok/Mosaic data\", {'obsconditions': 'DARK', 'priorities': {'UNOBS': 0, 'DONE': 0, 'OBS': 0, 'DONOTOBSERVE': 0, 'MORE_ZWARN': 0, 'MORE_ZGOOD': 0}, 'numobs': 0}]\n",
      "  - [ELG_NORTH,        9, \"ELG cuts tuned for Bok/Mosaic data\", {'obsconditions': 'DARK|GRAY', 'priorities': {'UNOBS': 0, 'DONE': 0, 'OBS': 0, 'DONOTOBSERVE': 0, 'MORE_ZWARN': 0, 'MORE_ZGOOD': 0}, 'numobs': 0}]\n",
      "  - [QSO_NORTH,       10, \"QSO cuts tuned for Bok/Mosaic data\", {'obsconditions': 'DARK', 'priorities': {'UNOBS': 0, 'DONE': 0, 'OBS': 0, 'DONOTOBSERVE': 0, 'MORE_ZWARN': 0, 'MORE_ZGOOD': 0}, 'numobs': 0}]\n",
      "  - [LRG_SOUTH,       16, \"LRG cuts tuned for DECam data\", {'obsconditions': 'DARK', 'priorities': {'UNOBS': 0, 'DONE': 0, 'OBS': 0, 'DONOTOBSERVE': 0, 'MORE_ZWARN': 0, 'MORE_ZGOOD': 0}, 'numobs': 0}]\n",
      "  - [ELG_SOUTH,       17, \"ELG cuts tuned for DECam data\", {'obsconditions': 'DARK|GRAY', 'priorities': {'UNOBS': 0, 'DONE': 0, 'OBS': 0, 'DONOTOBSERVE': 0, 'MORE_ZWARN': 0, 'MORE_ZGOOD': 0}, 'numobs': 0}]\n",
      "  - [QSO_SOUTH,       18, \"QSO cuts tuned for DECam data\", {'obsconditions': 'DARK', 'priorities': {'UNOBS': 0, 'DONE': 0, 'OBS': 0, 'DONOTOBSERVE': 0, 'MORE_ZWARN': 0, 'MORE_ZGOOD': 0}, 'numobs': 0}]\n",
      "  - [LRG_1PASS_NORTH, 24, \"LRG to be observed once tuned for Bok/Mosaic\", {'obsconditions': 'DARK', 'priorities': {'UNOBS': 0, 'DONE': 0, 'OBS': 0, 'DONOTOBSERVE': 0, 'MORE_ZWARN': 0, 'MORE_ZGOOD': 0}, 'numobs': 0}]\n",
      "  - [LRG_2PASS_NORTH, 25, \"LRG to be observed twice tuned for Bok/Mosaic\", {'obsconditions': 'DARK', 'priorities': {'UNOBS': 0, 'DONE': 0, 'OBS': 0, 'DONOTOBSERVE': 0, 'MORE_ZWARN': 0, 'MORE_ZGOOD': 0}, 'numobs': 0}]\n",
      "  - [LRG_1PASS_SOUTH, 28, \"LRG to be observed once tuned for DECam\", {'obsconditions': 'DARK', 'priorities': {'UNOBS': 0, 'DONE': 0, 'OBS': 0, 'DONOTOBSERVE': 0, 'MORE_ZWARN': 0, 'MORE_ZGOOD': 0}, 'numobs': 0}]\n",
      "  - [LRG_2PASS_SOUTH, 29, \"LRG to be observed twice tuned for DECam\", {'obsconditions': 'DARK', 'priorities': {'UNOBS': 0, 'DONE': 0, 'OBS': 0, 'DONOTOBSERVE': 0, 'MORE_ZWARN': 0, 'MORE_ZGOOD': 0}, 'numobs': 0}]\n",
      "  - [SKY,             32, \"Blank sky locations\", {'obsconditions': 'DARK|GRAY|BRIGHT|POOR|TWILIGHT12|TWILIGHT18', 'priorities': {}, 'numobs': -1}]\n",
      "  - [STD_FAINT,       33, \"Standard stars for dark/gray conditions\", {'obsconditions': 'DARK|GRAY', 'priorities': {}, 'numobs': -1}]\n",
      "  - [STD_WD,          34, \"White Dwarf stars\", {'obsconditions': 'DARK|GRAY|BRIGHT', 'priorities': {}, 'numobs': -1}]\n",
      "  - [STD_BRIGHT,      35, \"Standard stars for BRIGHT conditions\", {'obsconditions': 'BRIGHT', 'priorities': {}, 'numobs': -1}]\n",
      "  - [BAD_SKY,         36, \"Blank sky locations that are imperfect but still useable\", {'obsconditions': 'DARK|GRAY|BRIGHT|POOR|TWILIGHT12|TWILIGHT18', 'priorities': {'UNOBS': 0, 'OBS': 0, 'DONE': 0, 'MORE_ZWARN': 0, 'MORE_ZGOOD': 0, 'DONOTOBSERVE': 1}, 'numobs': 0}]\n",
      "  - [SUPP_SKY,        37, \"SKY is based on Gaia-avoidance (SKY will be set, too)\", {'obsconditions': 'DARK|GRAY|BRIGHT|POOR|TWILIGHT12|TWILIGHT18', 'priorities': {}, 'numobs': -1}]\n",
      "  - [NO_TARGET,       49, \"No known target at this location\", {'obsconditions': 'DARK|GRAY|BRIGHT|POOR|TWILIGHT12|TWILIGHT18', 'priorities': {}, 'numobs': -1}]\n",
      "  - [BRIGHT_OBJECT,   50, \"Known bright object to avoid\", {'obsconditions': 'APOCALYPSE', 'priorities': {}, 'numobs': -1}]\n",
      "  - [IN_BRIGHT_OBJECT, 51, \"Too near a bright object; DO NOT OBSERVE\", {'obsconditions': 'APOCALYPSE', 'priorities': {}, 'numobs': -1}]\n",
      "  - [NEAR_BRIGHT_OBJECT, 52, \"Near a bright object but ok to observe\", {'obsconditions': 'DARK|GRAY|BRIGHT|POOR|TWILIGHT12|TWILIGHT18', 'priorities': {}, 'numobs': -1}]\n",
      "  - [BGS_ANY,         60, \"Any BGS bit is set\", {'obsconditions': 'BRIGHT', 'priorities': {}, 'numobs': -1}]\n",
      "  - [MWS_ANY,         61, \"Any MWS bit is set\", {'obsconditions': 'BRIGHT', 'priorities': {}, 'numobs': -1}]\n",
      "  - [SCND_ANY,        62, \"Any secondary bit is set\", {'obsconditions': 'DARK|GRAY|BRIGHT|POOR|TWILIGHT12|TWILIGHT18', 'priorities': {}, 'numobs': -1}]\n"
     ]
    }
   ],
   "source": [
    "from desitarget.targets import desi_mask, bgs_mask, mws_mask\n",
    "print(desi_mask)"
   ]
  },
  {
   "cell_type": "markdown",
   "metadata": {},
   "source": [
    "The mask contains the name of the target bit (e.g. `ELG`) the bit value to which that name corresponds (e.g. `1`, meaning 2-to-the-power-1), a description of the target (e.g. `\"ELG\"`) and a dictionary of values that contain information for fiber assignment, such as the observing conditions allowed for the target, the initial priority with which the target class should be observed, and the initial number of observations for the target class. Note that these bits of information can be accessed individually in a number of ways:"
   ]
  },
  {
   "cell_type": "code",
   "execution_count": 92,
   "metadata": {},
   "outputs": [
    {
     "data": {
      "text/plain": [
       "(4, 4)"
      ]
     },
     "execution_count": 92,
     "metadata": {},
     "output_type": "execute_result"
    }
   ],
   "source": [
    "desi_mask[\"QSO\"], desi_mask.QSO # ADM different ways of accessing the bit values."
   ]
  },
  {
   "cell_type": "code",
   "execution_count": 93,
   "metadata": {},
   "outputs": [
    {
     "data": {
      "text/plain": [
       "['LRG',\n",
       " 'ELG',\n",
       " 'QSO',\n",
       " 'LRG_1PASS',\n",
       " 'LRG_2PASS',\n",
       " 'LRG_NORTH',\n",
       " 'ELG_NORTH',\n",
       " 'QSO_NORTH',\n",
       " 'LRG_SOUTH',\n",
       " 'ELG_SOUTH',\n",
       " 'QSO_SOUTH',\n",
       " 'LRG_1PASS_NORTH',\n",
       " 'LRG_2PASS_NORTH',\n",
       " 'LRG_1PASS_SOUTH',\n",
       " 'LRG_2PASS_SOUTH',\n",
       " 'SKY',\n",
       " 'STD_FAINT',\n",
       " 'STD_WD',\n",
       " 'STD_BRIGHT',\n",
       " 'BAD_SKY',\n",
       " 'SUPP_SKY',\n",
       " 'NO_TARGET',\n",
       " 'BRIGHT_OBJECT',\n",
       " 'IN_BRIGHT_OBJECT',\n",
       " 'NEAR_BRIGHT_OBJECT',\n",
       " 'BGS_ANY',\n",
       " 'MWS_ANY',\n",
       " 'SCND_ANY']"
      ]
     },
     "execution_count": 93,
     "metadata": {},
     "output_type": "execute_result"
    }
   ],
   "source": [
    "desi_mask.names() # ADM the names of each target type."
   ]
  },
  {
   "cell_type": "code",
   "execution_count": 94,
   "metadata": {},
   "outputs": [
    {
     "data": {
      "text/plain": [
       "['LRG', 'ELG', 'QSO']"
      ]
     },
     "execution_count": 94,
     "metadata": {},
     "output_type": "execute_result"
    }
   ],
   "source": [
    "desi_mask.names(7) # ADM the names of target classes that correspond to an integer value of 5.\n",
    "# ADM note that 7 is 2**0 + 2**1 + 2**2."
   ]
  },
  {
   "cell_type": "code",
   "execution_count": 95,
   "metadata": {},
   "outputs": [
    {
     "data": {
      "text/plain": [
       "32"
      ]
     },
     "execution_count": 95,
     "metadata": {},
     "output_type": "execute_result"
    }
   ],
   "source": [
    "desi_mask.bitnum(\"SKY\") # ADM the integer value that corresponds to the \"SKY\" bit."
   ]
  },
  {
   "cell_type": "code",
   "execution_count": 96,
   "metadata": {},
   "outputs": [
    {
     "data": {
      "text/plain": [
       "[('LRG', 0, 1),\n",
       " ('ELG', 1, 2),\n",
       " ('QSO', 2, 4),\n",
       " ('LRG_1PASS', 3, 8),\n",
       " ('LRG_2PASS', 4, 16),\n",
       " ('LRG_NORTH', 8, 256),\n",
       " ('ELG_NORTH', 9, 512),\n",
       " ('QSO_NORTH', 10, 1024),\n",
       " ('LRG_SOUTH', 16, 65536),\n",
       " ('ELG_SOUTH', 17, 131072),\n",
       " ('QSO_SOUTH', 18, 262144),\n",
       " ('LRG_1PASS_NORTH', 24, 16777216),\n",
       " ('LRG_2PASS_NORTH', 25, 33554432),\n",
       " ('LRG_1PASS_SOUTH', 28, 268435456),\n",
       " ('LRG_2PASS_SOUTH', 29, 536870912),\n",
       " ('SKY', 32, 4294967296),\n",
       " ('STD_FAINT', 33, 8589934592),\n",
       " ('STD_WD', 34, 17179869184),\n",
       " ('STD_BRIGHT', 35, 34359738368),\n",
       " ('BAD_SKY', 36, 68719476736),\n",
       " ('SUPP_SKY', 37, 137438953472),\n",
       " ('NO_TARGET', 49, 562949953421312),\n",
       " ('BRIGHT_OBJECT', 50, 1125899906842624),\n",
       " ('IN_BRIGHT_OBJECT', 51, 2251799813685248),\n",
       " ('NEAR_BRIGHT_OBJECT', 52, 4503599627370496),\n",
       " ('BGS_ANY', 60, 1152921504606846976),\n",
       " ('MWS_ANY', 61, 2305843009213693952),\n",
       " ('SCND_ANY', 62, 4611686018427387904)]"
      ]
     },
     "execution_count": 96,
     "metadata": {},
     "output_type": "execute_result"
    }
   ],
   "source": [
    "names = desi_mask.names()\n",
    "bitnums = [desi_mask.bitnum(name) for name in names]\n",
    "bitvals = [desi_mask[name] for name in names]\n",
    "list(zip(names,bitnums,bitvals)) # ADM the bit and integer value for each defined name."
   ]
  },
  {
   "cell_type": "code",
   "execution_count": 97,
   "metadata": {},
   "outputs": [
    {
     "data": {
      "text/plain": [
       "{'UNOBS': 3200,\n",
       " 'DONE': 2,\n",
       " 'OBS': 1,\n",
       " 'DONOTOBSERVE': 0,\n",
       " 'MORE_ZWARN': 3200,\n",
       " 'MORE_ZGOOD': 3200}"
      ]
     },
     "execution_count": 97,
     "metadata": {},
     "output_type": "execute_result"
    }
   ],
   "source": [
    "desi_mask[\"LRG\"].priorities # ADM a dictionary of initial priorities for the LRG target class."
   ]
  },
  {
   "cell_type": "code",
   "execution_count": 98,
   "metadata": {},
   "outputs": [
    {
     "data": {
      "text/plain": [
       "('DARK', 0, 3200)"
      ]
     },
     "execution_count": 98,
     "metadata": {},
     "output_type": "execute_result"
    }
   ],
   "source": [
    "desi_mask[\"LRG\"].obsconditions, desi_mask[\"LRG\"].numobs, desi_mask[\"LRG\"].priorities[\"MORE_ZGOOD\"]"
   ]
  },
  {
   "cell_type": "markdown",
   "metadata": {},
   "source": [
    "There are corresponding masks for the `BGS` and `MWS`, which can be accessed in the same way, e.g.:"
   ]
  },
  {
   "cell_type": "code",
   "execution_count": 99,
   "metadata": {},
   "outputs": [
    {
     "data": {
      "text/plain": [
       "['BGS_FAINT',\n",
       " 'BGS_BRIGHT',\n",
       " 'BGS_WISE',\n",
       " 'BGS_FAINT_HIP',\n",
       " 'BGS_FAINT_NORTH',\n",
       " 'BGS_BRIGHT_NORTH',\n",
       " 'BGS_WISE_NORTH',\n",
       " 'BGS_FAINT_SOUTH',\n",
       " 'BGS_BRIGHT_SOUTH',\n",
       " 'BGS_WISE_SOUTH']"
      ]
     },
     "execution_count": 99,
     "metadata": {},
     "output_type": "execute_result"
    }
   ],
   "source": [
    "bgs_mask.names()"
   ]
  },
  {
   "cell_type": "code",
   "execution_count": 100,
   "metadata": {},
   "outputs": [
    {
     "data": {
      "text/plain": [
       "['MWS_BROAD',\n",
       " 'MWS_WD',\n",
       " 'MWS_NEARBY',\n",
       " 'MWS_BROAD_NORTH',\n",
       " 'MWS_BROAD_SOUTH',\n",
       " 'MWS_MAIN_BLUE',\n",
       " 'MWS_MAIN_BLUE_NORTH',\n",
       " 'MWS_MAIN_BLUE_SOUTH',\n",
       " 'MWS_MAIN_RED',\n",
       " 'MWS_MAIN_RED_NORTH',\n",
       " 'MWS_MAIN_RED_SOUTH']"
      ]
     },
     "execution_count": 100,
     "metadata": {},
     "output_type": "execute_result"
    }
   ],
   "source": [
    "mws_mask.names()"
   ]
  },
  {
   "cell_type": "markdown",
   "metadata": {},
   "source": [
    "## The Commissioning and Survey Validation bitmasks ##\n",
    "\n",
    "In addition to the DESI Main Survey, `desitarget` produces targets for Commissioning (\"CMX\") and Survey Validation (\"SV\"). The CMX and SV bitmasks can be obtained and examined as follows (other manipulation of these masks is similar to the previous sub-section, above):"
   ]
  },
  {
   "cell_type": "code",
   "execution_count": 101,
   "metadata": {},
   "outputs": [
    {
     "name": "stdout",
     "output_type": "stream",
     "text": [
      "cmx_mask:\n",
      "  - [STD_GAIA,         0, \"Gaia stars used for dithering tests\", {'obsconditions': 'DARK|GRAY|BRIGHT', 'priorities': {'UNOBS': 2400, 'DONE': 2, 'OBS': 1, 'DONOTOBSERVE': 0, 'MORE_ZWARN': 2400, 'MORE_ZGOOD': 2400}, 'numobs': 1}]\n",
      "  - [SV0_STD_FAINT,    1, \"SV-like STD_FAINT class is set (very early SV selection)\", {'obsconditions': 'DARK|GRAY', 'priorities': {'UNOBS': 2600, 'DONE': 2, 'OBS': 1, 'DONOTOBSERVE': 0, 'MORE_ZWARN': 2600, 'MORE_ZGOOD': 2600}, 'numobs': 1}]\n",
      "  - [SV0_STD_BRIGHT,   2, \"SV-like STD_BRIGHT class is set (very early SV selection)\", {'obsconditions': 'BRIGHT', 'priorities': {'UNOBS': 2600, 'DONE': 2, 'OBS': 1, 'DONOTOBSERVE': 0, 'MORE_ZWARN': 2600, 'MORE_ZGOOD': 2600}, 'numobs': 1}]\n",
      "  - [STD_TEST,         3, \"Very bright stars for early tests\", {'obsconditions': 'DARK|GRAY|BRIGHT', 'priorities': {'UNOBS': 2800, 'DONE': 2, 'OBS': 1, 'DONOTOBSERVE': 0, 'MORE_ZWARN': 2800, 'MORE_ZGOOD': 2800}, 'numobs': 1}]\n",
      "  - [STD_CALSPEC,      4, \"Matches to CALSPEC stars\", {'obsconditions': 'DARK|GRAY|BRIGHT', 'priorities': {'UNOBS': 3000, 'DONE': 2, 'OBS': 1, 'DONOTOBSERVE': 0, 'MORE_ZWARN': 3000, 'MORE_ZGOOD': 3000}, 'numobs': 1}]\n",
      "  - [SV0_BGS,          8, \"SV-like BGS bit is set (very early SV selection)\", {'obsconditions': 'BRIGHT', 'priorities': {'UNOBS': 2100, 'MORE_ZWARN': 2100, 'MORE_ZGOOD': 1000, 'DONE': 2, 'OBS': 1, 'DONOTOBSERVE': 0}, 'numobs': 1}]\n",
      "  - [SV0_MWS,          9, \"SV-like MWS bit is set (very early SV selection)\", {'obsconditions': 'BRIGHT', 'priorities': {'UNOBS': 1500, 'DONE': 2, 'OBS': 1, 'DONOTOBSERVE': 0, 'MORE_ZWARN': 1500, 'MORE_ZGOOD': 1500}, 'numobs': 1}]\n",
      "  - [SV0_LRG,         10, \"SV-like LRG bit is set (very early SV selection)\", {'obsconditions': 'DARK', 'priorities': {'UNOBS': 3200, 'DONE': 2, 'OBS': 1, 'DONOTOBSERVE': 0, 'MORE_ZWARN': 3200, 'MORE_ZGOOD': 3200}, 'numobs': 2}]\n",
      "  - [SV0_ELG,         11, \"SV-like ELG bit is set (very early SV selection)\", {'obsconditions': 'DARK|GRAY', 'priorities': {'UNOBS': 3000, 'DONE': 2, 'OBS': 1, 'DONOTOBSERVE': 0, 'MORE_ZWARN': 3000, 'MORE_ZGOOD': 3000}, 'numobs': 1}]\n",
      "  - [SV0_QSO,         12, \"SV-like QSO bit is set (very early SV/RF selection)\", {'obsconditions': 'DARK', 'priorities': {'UNOBS': 3400, 'MORE_ZGOOD': 3500, 'DONE': 2, 'OBS': 1, 'DONOTOBSERVE': 0, 'MORE_ZWARN': 3400}, 'numobs': 4}]\n",
      "  - [SV0_WD,          13, \"SV-like WD bit is set (very early MWS_WD selection)\", {'obsconditions': 'BRIGHT', 'priorities': {'UNOBS': 2998, 'DONE': 2, 'OBS': 1, 'DONOTOBSERVE': 0, 'MORE_ZWARN': 2998, 'MORE_ZGOOD': 2998}, 'numobs': 1}]\n",
      "  - [SKY,             32, \"Blank sky locations\", {'obsconditions': 'DARK|GRAY|BRIGHT|POOR|TWILIGHT12|TWILIGHT18', 'priorities': {}, 'numobs': -1}]\n",
      "  - [STD_FAINT,       33, \"SV-like standard stars for dark/gray conditions\", {'obsconditions': 'DARK|GRAY', 'priorities': {}, 'numobs': -1}]\n",
      "  - [STD_BRIGHT,      35, \"SV-like standard stars for BRIGHT conditions\", {'obsconditions': 'BRIGHT', 'priorities': {}, 'numobs': -1}]\n",
      "  - [BAD_SKY,         36, \"Blank sky locations that are imperfect but still useable\", {'obsconditions': 'DARK|GRAY|BRIGHT|POOR|TWILIGHT12|TWILIGHT18', 'priorities': {'UNOBS': 0, 'OBS': 0, 'DONE': 0, 'MORE_ZWARN': 0, 'MORE_ZGOOD': 0, 'DONOTOBSERVE': 1}, 'numobs': 0}]\n",
      "  - [SUPP_SKY,        37, \"SKY is based on Gaia-avoidance (SKY will be set, too)\", {'obsconditions': 'DARK|GRAY|BRIGHT|POOR|TWILIGHT12|TWILIGHT18', 'priorities': {}, 'numobs': -1}]\n"
     ]
    }
   ],
   "source": [
    "from desitarget.cmx.cmx_targetmask import cmx_mask\n",
    "print(cmx_mask)"
   ]
  },
  {
   "cell_type": "code",
   "execution_count": 102,
   "metadata": {},
   "outputs": [
    {
     "data": {
      "text/plain": [
       "['LRG',\n",
       " 'ELG',\n",
       " 'QSO',\n",
       " 'LRG_INIT',\n",
       " 'LRG_LOWZ',\n",
       " 'LRG_HIGHZ',\n",
       " 'LRG_RELAX',\n",
       " 'LRG_SUPER',\n",
       " 'ELG_FDR',\n",
       " 'ELG_FDR_FAINT',\n",
       " 'ELG_RZ_BLUE',\n",
       " 'ELG_RZ_RED',\n",
       " 'QSO_COLOR_4PASS',\n",
       " 'QSO_RF_4PASS',\n",
       " 'QSO_COLOR_8PASS',\n",
       " 'QSO_RF_8PASS',\n",
       " 'QSO_HZ_F',\n",
       " 'LRG_NORTH',\n",
       " 'ELG_NORTH',\n",
       " 'QSO_NORTH',\n",
       " 'LRG_SOUTH',\n",
       " 'ELG_SOUTH',\n",
       " 'QSO_SOUTH',\n",
       " 'LRG_INIT_NORTH',\n",
       " 'LRG_LOWZ_NORTH',\n",
       " 'LRG_HIGHZ_NORTH',\n",
       " 'LRG_RELAX_NORTH',\n",
       " 'LRG_SUPER_NORTH',\n",
       " 'LRG_INIT_SOUTH',\n",
       " 'LRG_LOWZ_SOUTH',\n",
       " 'LRG_HIGHZ_SOUTH',\n",
       " 'LRG_RELAX_SOUTH',\n",
       " 'SKY',\n",
       " 'STD_FAINT',\n",
       " 'STD_WD',\n",
       " 'STD_BRIGHT',\n",
       " 'BAD_SKY',\n",
       " 'LRG_SUPER_SOUTH',\n",
       " 'ELG_FDR_NORTH',\n",
       " 'ELG_FDR_FAINT_NORTH',\n",
       " 'ELG_RZ_BLUE_NORTH',\n",
       " 'ELG_RZ_RED_NORTH',\n",
       " 'ELG_FDR_SOUTH',\n",
       " 'ELG_FDR_FAINT_SOUTH',\n",
       " 'ELG_RZ_BLUE_SOUTH',\n",
       " 'ELG_RZ_RED_SOUTH',\n",
       " 'QSO_COLOR_4PASS_NORTH',\n",
       " 'QSO_RF_4PASS_NORTH',\n",
       " 'QSO_COLOR_8PASS_NORTH',\n",
       " 'NO_TARGET',\n",
       " 'BRIGHT_OBJECT',\n",
       " 'IN_BRIGHT_OBJECT',\n",
       " 'NEAR_BRIGHT_OBJECT',\n",
       " 'QSO_RF_8PASS_NORTH',\n",
       " 'QSO_HZ_F_NORTH',\n",
       " 'QSO_COLOR_4PASS_SOUTH',\n",
       " 'QSO_RF_4PASS_SOUTH',\n",
       " 'QSO_COLOR_8PASS_SOUTH',\n",
       " 'QSO_RF_8PASS_SOUTH',\n",
       " 'QSO_HZ_F_SOUTH',\n",
       " 'BGS_ANY',\n",
       " 'MWS_ANY',\n",
       " 'SCND_ANY']"
      ]
     },
     "execution_count": 102,
     "metadata": {},
     "output_type": "execute_result"
    }
   ],
   "source": [
    "from desitarget.sv1.sv1_targetmask import desi_mask, bgs_mask, mws_mask\n",
    "desi_mask.names()"
   ]
  },
  {
   "cell_type": "markdown",
   "metadata": {},
   "source": [
    "# Using the bitmasks to understand a file of targets#\n",
    "\n",
    "## Important aside!!! ##\n",
    "\n",
    "Target classes have evolved throughout the history of the `desitarget` code, and the bits that correspond to those targets have thus occasionally changed. It is _therefore critical that you use the same version of `desitarget` when working with bits in a target file as was used to create that target file_!\n",
    "\n",
    "For example, say you are working with commissioning targets that were created with version `0.X.X` of `desitarget`. The correct version of Git to use to study this file can be obtained via:\n",
    "\n",
    "```\n",
    "git checkout 0.X.X\n",
    "```\n",
    "\n",
    "and the corresponding `.yaml` file online on GitHub would be:\n",
    "\n",
    "https://github.com/desihub/desitarget/blob/0.X.X/py/desitarget/cmx/data/cmx_targetmask.yaml\n",
    "\n",
    "For example, for version `0.31.1` of `desitarget` issue:\n",
    "\n",
    "```\n",
    "git checkout 0.31.1\n",
    "```\n",
    "\n",
    "or look at:\n",
    "\n",
    "https://github.com/desihub/desitarget/blob/0.31.1/py/desitarget/cmx/data/cmx_targetmask.yaml\n",
    "\n",
    "Equivalently, for version `0.31.1` of `desitarget` for SV or the Main Survey:\n",
    "\n",
    "https://github.com/desihub/desitarget/blob/0.31.1/py/desitarget/sv1/data/sv1_targetmask.yaml\n",
    "\n",
    "https://github.com/desihub/desitarget/blob/0.31.1/py/desitarget/data/targetmask.yaml\n",
    "\n",
    "Commissioning targeting bits are _expected_ to be final as of version `0.32.0` of `desitarget`. SV and Main Survey bits may not yet be final.\n",
    "\n",
    "## Working with target files ##\n",
    "\n",
    "The target files produced by `select_targets` contain many quantities from the Legacy Surveys data model sweeps files at, e.g.:\n",
    "\n",
    "http://www.legacysurvey.org/dr7/files/#sweep-7-0-sweep-brickmin-brickmax-fits\n",
    "\n",
    "The main columns added by `select_targets` are `DESI_TARGET`, `BGS_TARGET` and `MWS_TARGET`, which contain the output bitmasks from target selection. Let's take a closer look at how these columns can be used in conjunction with the bitmasks.\n",
    "\n",
    "First, enter the Python prompt. Now, let's read in a file of targets. I'll assume you're working at NERSC, but set ``targdir``, below, to wherever you have a `targets-` file."
   ]
  },
  {
   "cell_type": "code",
   "execution_count": 125,
   "metadata": {},
   "outputs": [],
   "source": [
    "import os\n",
    "from glob import glob\n",
    "from astropy.io.fits import getdata\n",
    "import numpy as np\n",
    "# ADM replace this with any directory you know of that holds targets.\n",
    "targdir = \"/project/projectdirs/desi/target/catalogs/examples\"\n",
    "# ADM replace this with the name of any target file.\n",
    "targfile = 'targets.fits'\n",
    "targfile = os.path.join(targdir, targfile)\n",
    "targs = getdata(targfile)"
   ]
  },
  {
   "cell_type": "markdown",
   "metadata": {},
   "source": [
    "Note that if you took the file from my the `examples` directory, then you're using an example file that only contains a subset of columns."
   ]
  },
  {
   "cell_type": "code",
   "execution_count": 126,
   "metadata": {},
   "outputs": [
    {
     "name": "stdout",
     "output_type": "stream",
     "text": [
      "(numpy.record, [('RA', '>f8'), ('DEC', '>f8'), ('FLUX_G', '>f4'), ('FLUX_R', '>f4'), ('FLUX_Z', '>f4'), ('FLUX_W1', '>f4'), ('FLUX_W2', '>f4'), ('MW_TRANSMISSION_G', '>f4'), ('MW_TRANSMISSION_R', '>f4'), ('MW_TRANSMISSION_Z', '>f4'), ('MW_TRANSMISSION_W1', '>f4'), ('MW_TRANSMISSION_W2', '>f4'), ('PARALLAX', '>f4'), ('PMRA', '>f4'), ('PMDEC', '>f4'), ('DESI_TARGET', '>i8'), ('BGS_TARGET', '>i8'), ('MWS_TARGET', '>i8')])\n"
     ]
    }
   ],
   "source": [
    "print(targs.dtype)"
   ]
  },
  {
   "cell_type": "markdown",
   "metadata": {},
   "source": [
    "Let's consider the value of `DESI_TARGET` for the forty-second target:"
   ]
  },
  {
   "cell_type": "code",
   "execution_count": 127,
   "metadata": {},
   "outputs": [
    {
     "name": "stdout",
     "output_type": "stream",
     "text": [
      "394758\n"
     ]
    }
   ],
   "source": [
    "targ = targs[41]\n",
    "print(targ[\"DESI_TARGET\"])"
   ]
  },
  {
   "cell_type": "markdown",
   "metadata": {},
   "source": [
    "What does this number mean? Well, let's see which target classes are defined by this integer:"
   ]
  },
  {
   "cell_type": "code",
   "execution_count": 128,
   "metadata": {},
   "outputs": [
    {
     "data": {
      "text/plain": [
       "['ELG', 'QSO', 'ELG_NORTH', 'QSO_NORTH', 'ELG_SOUTH', 'QSO_SOUTH']"
      ]
     },
     "execution_count": 128,
     "metadata": {},
     "output_type": "execute_result"
    }
   ],
   "source": [
    "from desitarget.targets import desi_mask\n",
    "desi_mask.names(targ[\"DESI_TARGET\"])"
   ]
  },
  {
   "cell_type": "markdown",
   "metadata": {},
   "source": [
    "Now let's see what target classes are include for the first 10 targets:"
   ]
  },
  {
   "cell_type": "code",
   "execution_count": 129,
   "metadata": {},
   "outputs": [
    {
     "name": "stdout",
     "output_type": "stream",
     "text": [
      "1152921504606846976 ['BGS_ANY']\n",
      "131586 ['ELG' 'ELG_NORTH' 'ELG_SOUTH']\n",
      "1152921504606846976 ['BGS_ANY']\n",
      "285278473 ['LRG' 'LRG_1PASS' 'LRG_NORTH' 'LRG_SOUTH' 'LRG_1PASS_NORTH'\n",
      " 'LRG_1PASS_SOUTH']\n",
      "131586 ['ELG' 'ELG_NORTH' 'ELG_SOUTH']\n",
      "1152921504606846976 ['BGS_ANY']\n",
      "131586 ['ELG' 'ELG_NORTH' 'ELG_SOUTH']\n",
      "131074 ['ELG' 'ELG_SOUTH']\n",
      "131586 ['ELG' 'ELG_NORTH' 'ELG_SOUTH']\n",
      "131586 ['ELG' 'ELG_NORTH' 'ELG_SOUTH']\n"
     ]
    }
   ],
   "source": [
    "bitnames = np.array(desi_mask.names())  # ADM note the array conversion to help manipulation.\n",
    "bitvals = [desi_mask[name] for name in bitnames]\n",
    "for targ in targs[:10]:\n",
    "    w = np.where( (targ[\"DESI_TARGET\"] & bitvals) != 0)[0]\n",
    "    print(targ[\"DESI_TARGET\"], bitnames[w])"
   ]
  },
  {
   "cell_type": "markdown",
   "metadata": {},
   "source": [
    "So far, we've looked at the target class for each target. Now, let's just extract target classes that correspond to a certain bit. For example, which of the first 10 targets have the 'BGS_ANY' bit set?"
   ]
  },
  {
   "cell_type": "code",
   "execution_count": 130,
   "metadata": {},
   "outputs": [
    {
     "data": {
      "text/plain": [
       "array([0, 2, 5])"
      ]
     },
     "execution_count": 130,
     "metadata": {},
     "output_type": "execute_result"
    }
   ],
   "source": [
    "np.where((targs[:10][\"DESI_TARGET\"] & desi_mask[\"BGS_ANY\"]) != 0)[0]"
   ]
  },
  {
   "cell_type": "markdown",
   "metadata": {},
   "source": [
    "Which of *all* of the targets are *both* ELG and quasar targets?"
   ]
  },
  {
   "cell_type": "code",
   "execution_count": 131,
   "metadata": {},
   "outputs": [
    {
     "data": {
      "text/plain": [
       "array([ 41, 265, 355, 535, 561, 753, 788, 804, 835, 937])"
      ]
     },
     "execution_count": 131,
     "metadata": {},
     "output_type": "execute_result"
    }
   ],
   "source": [
    "isELG = (targs[\"DESI_TARGET\"] & desi_mask[\"ELG\"]) != 0\n",
    "isQSO = (targs[\"DESI_TARGET\"] & desi_mask[\"QSO\"]) != 0\n",
    "np.where(isELG & isQSO)[0]"
   ]
  },
  {
   "cell_type": "markdown",
   "metadata": {},
   "source": [
    "Alternatively, more compactly\""
   ]
  },
  {
   "cell_type": "code",
   "execution_count": 132,
   "metadata": {},
   "outputs": [
    {
     "data": {
      "text/plain": [
       "array([ 41, 265, 355, 535, 561, 753, 788, 804, 835, 937])"
      ]
     },
     "execution_count": 132,
     "metadata": {},
     "output_type": "execute_result"
    }
   ],
   "source": [
    "bitvalboth = desi_mask[\"ELG\"] + desi_mask[\"QSO\"]\n",
    "np.where(targs[\"DESI_TARGET\"] & bitvalboth == bitvalboth)[0]"
   ]
  },
  {
   "cell_type": "markdown",
   "metadata": {},
   "source": [
    "You should note that the forty-second target studied above pops up in these lists!"
   ]
  },
  {
   "cell_type": "markdown",
   "metadata": {},
   "source": [
    "Note that ``desi_mask`` contains a couple of special bits that simply denote whether a target is a `BGS` or `MWS` target. These are called ``BGS_ANY`` and ``MWS_ANY``. For example:"
   ]
  },
  {
   "cell_type": "code",
   "execution_count": 133,
   "metadata": {},
   "outputs": [
    {
     "name": "stdout",
     "output_type": "stream",
     "text": [
      "[ True False  True False False  True False False False False]\n",
      "[ True False  True False False  True False False False False]\n"
     ]
    }
   ],
   "source": [
    "print((targs[:10][\"DESI_TARGET\"] & desi_mask[\"BGS_ANY\"]) != 0)\n",
    "print(targs[:10][\"BGS_TARGET\"] != 0)"
   ]
  },
  {
   "cell_type": "markdown",
   "metadata": {},
   "source": [
    "Bits representing targets for the `Bright Galaxy Survey` and `Milky Way Survey` can be manipulated in the same way as previous examples in this section. The relevant columns and masks are ``BGS_TARGET`` and ``bgs_mask``, and ``MWS_TARGET`` and ``mws_mask`` respectively. For example:"
   ]
  },
  {
   "cell_type": "code",
   "execution_count": 134,
   "metadata": {},
   "outputs": [
    {
     "name": "stdout",
     "output_type": "stream",
     "text": [
      "131586 ['BGS_BRIGHT' 'BGS_BRIGHT_NORTH' 'BGS_BRIGHT_SOUTH']\n",
      "0 []\n",
      "65793 ['BGS_FAINT' 'BGS_FAINT_NORTH' 'BGS_FAINT_SOUTH']\n",
      "0 []\n",
      "0 []\n",
      "65793 ['BGS_FAINT' 'BGS_FAINT_NORTH' 'BGS_FAINT_SOUTH']\n",
      "0 []\n",
      "0 []\n",
      "0 []\n",
      "0 []\n"
     ]
    }
   ],
   "source": [
    "from desitarget.targets import bgs_mask, mws_mask\n",
    "bitnames = np.array(bgs_mask.names())  # ADM note the array conversion to help manipulation.\n",
    "bitvals = [bgs_mask[name] for name in bitnames]\n",
    "for targ in targs[:10]:\n",
    "    w = np.where( (targ[\"BGS_TARGET\"] & bitvals) != 0)[0]\n",
    "    print(targ[\"BGS_TARGET\"], bitnames[w])"
   ]
  },
  {
   "cell_type": "markdown",
   "metadata": {},
   "source": [
    "## Working with target files for CMX or SV ##\n",
    "\n",
    "As noted in the previous section, Commissioning and SV have different bitmasks. Conveniently, commissioning and SV also have different `_TARGET` column names, allowing a user to easily distinguish which \"flavor\" of file they are using:\n",
    "\n",
    "Main Survey files have the columns `DESI_TARGET`, `BGS_TARGET` and `MWS_TARGET`.\n",
    "\n",
    "Commissioning files have the column `CMX_TARGET`.\n",
    "\n",
    "SV files have the columns `SV1_DESI_TARGET`, `SV1_BGS_TARGET` and `SV1_MWS_TARGET`.\n",
    "\n",
    "A convenient utility is `desitarget.targets.main_cmx_or_sv` which will use the differing column names to load the appropriate mask or masks. For example, using our Main Survey example file:"
   ]
  },
  {
   "cell_type": "code",
   "execution_count": 147,
   "metadata": {},
   "outputs": [
    {
     "name": "stdout",
     "output_type": "stream",
     "text": [
      "DESI_TARGET MWS_TARGET\n"
     ]
    }
   ],
   "source": [
    "import os, fitsio\n",
    "# ADM replace this with any directory you know of that holds targets.\n",
    "targdir = \"/project/projectdirs/desi/target/catalogs/examples\"\n",
    "# ADM replace this with the name of any target file.\n",
    "targfile = 'targets.fits'\n",
    "targfile = os.path.join(targdir, targfile)\n",
    "targs = fitsio.read(targfile)\n",
    "# ADM load the convenient utility and use it.\n",
    "from desitarget.targets import main_cmx_or_sv\n",
    "[desi_target, bgs_target, mws_target], [desi_mask, bgs_mask, mws_mask], surv = main_cmx_or_sv(targs)\n",
    "print(desi_target, mws_target)"
   ]
  },
  {
   "cell_type": "code",
   "execution_count": 148,
   "metadata": {},
   "outputs": [
    {
     "name": "stdout",
     "output_type": "stream",
     "text": [
      "main\n"
     ]
    }
   ],
   "source": [
    "print(surv)"
   ]
  },
  {
   "cell_type": "code",
   "execution_count": 149,
   "metadata": {},
   "outputs": [
    {
     "name": "stdout",
     "output_type": "stream",
     "text": [
      "bgs_mask:\n",
      "  - [BGS_FAINT,        0, \"BGS faint targets\", {'obsconditions': 'BRIGHT|GRAY|DARK', 'priorities': {'UNOBS': 2000, 'MORE_ZWARN': 2000, 'MORE_ZGOOD': 1000, 'DONE': 2, 'OBS': 1, 'DONOTOBSERVE': 0}, 'numobs': 1}]\n",
      "  - [BGS_BRIGHT,       1, \"BGS bright targets\", {'obsconditions': 'BRIGHT', 'priorities': {'UNOBS': 2100, 'MORE_ZWARN': 2100, 'MORE_ZGOOD': 1000, 'DONE': 2, 'OBS': 1, 'DONOTOBSERVE': 0}, 'numobs': 1}]\n",
      "  - [BGS_WISE,         2, \"BGS wise targets\", {'obsconditions': 'BRIGHT', 'priorities': {'UNOBS': 2000, 'MORE_ZWARN': 2000, 'MORE_ZGOOD': 1000, 'DONE': 2, 'OBS': 1, 'DONOTOBSERVE': 0}, 'numobs': 1}]\n",
      "  - [BGS_FAINT_HIP,    3, \"BGS faint targets at bright priorty\", {'obsconditions': 'BRIGHT', 'priorities': {'UNOBS': 2100, 'MORE_ZWARN': 2100, 'MORE_ZGOOD': 1000, 'DONE': 2, 'OBS': 1, 'DONOTOBSERVE': 0}, 'numobs': 1}]\n",
      "  - [BGS_FAINT_NORTH,  8, \"BGS faint cuts tuned for Bok/Mosaic\", {'obsconditions': 'BRIGHT|GRAY|DARK', 'priorities': {'UNOBS': 0, 'MORE_ZWARN': 0, 'MORE_ZGOOD': 0, 'DONE': 0, 'OBS': 0, 'DONOTOBSERVE': 0}, 'numobs': 0}]\n",
      "  - [BGS_BRIGHT_NORTH,  9, \"BGS bright cuts tuned for Bok/Mosaic\", {'obsconditions': 'BRIGHT', 'priorities': {'UNOBS': 0, 'MORE_ZWARN': 0, 'MORE_ZGOOD': 0, 'DONE': 0, 'OBS': 0, 'DONOTOBSERVE': 0}, 'numobs': 0}]\n",
      "  - [BGS_WISE_NORTH,  10, \"BGS WISE cuts tuned for Bok/Mosaic\", {'obsconditions': 'BRIGHT', 'priorities': {'UNOBS': 0, 'MORE_ZWARN': 0, 'MORE_ZGOOD': 0, 'DONE': 0, 'OBS': 0, 'DONOTOBSERVE': 0}, 'numobs': 0}]\n",
      "  - [BGS_FAINT_SOUTH, 16, \"BGS faint cuts tuned for DECam\", {'obsconditions': 'BRIGHT|GRAY|DARK', 'priorities': {'UNOBS': 0, 'MORE_ZWARN': 0, 'MORE_ZGOOD': 0, 'DONE': 0, 'OBS': 0, 'DONOTOBSERVE': 0}, 'numobs': 0}]\n",
      "  - [BGS_BRIGHT_SOUTH, 17, \"BGS bright cuts tuned for DECam\", {'obsconditions': 'BRIGHT', 'priorities': {'UNOBS': 0, 'MORE_ZWARN': 0, 'MORE_ZGOOD': 0, 'DONE': 0, 'OBS': 0, 'DONOTOBSERVE': 0}, 'numobs': 0}]\n",
      "  - [BGS_WISE_SOUTH,  18, \"BGS WISE cuts tuned for DECam\", {'obsconditions': 'BRIGHT', 'priorities': {'UNOBS': 0, 'MORE_ZWARN': 0, 'MORE_ZGOOD': 0, 'DONE': 0, 'OBS': 0, 'DONOTOBSERVE': 0}, 'numobs': 0}]\n"
     ]
    }
   ],
   "source": [
    "print(bgs_mask)"
   ]
  },
  {
   "cell_type": "markdown",
   "metadata": {},
   "source": [
    "Let's see what would happen if our targets file was actually an SV file:"
   ]
  },
  {
   "cell_type": "code",
   "execution_count": 150,
   "metadata": {},
   "outputs": [
    {
     "name": "stdout",
     "output_type": "stream",
     "text": [
      "SV1_BGS_TARGET SV1_MWS_TARGET\n"
     ]
    }
   ],
   "source": [
    "import numpy.lib.recfunctions as rfn\n",
    "for col in [desi_target, bgs_target, mws_target]:\n",
    "    sv1_targs = rfn.rename_fields(targs, {col: 'SV1_'+col})\n",
    "[desi_target, bgs_target, mws_target], [desi_mask, bgs_mask, mws_mask], surv = main_cmx_or_sv(sv1_targs)\n",
    "print(bgs_target, mws_target)"
   ]
  },
  {
   "cell_type": "code",
   "execution_count": 151,
   "metadata": {},
   "outputs": [
    {
     "name": "stdout",
     "output_type": "stream",
     "text": [
      "sv1\n"
     ]
    }
   ],
   "source": [
    "print(surv)"
   ]
  },
  {
   "cell_type": "code",
   "execution_count": 152,
   "metadata": {},
   "outputs": [
    {
     "name": "stdout",
     "output_type": "stream",
     "text": [
      "sv1_desi_mask:\n",
      "  - [LRG,              0, \"LRG\", {'obsconditions': 'DARK', 'priorities': {'UNOBS': 3200, 'DONE': 2, 'OBS': 1, 'DONOTOBSERVE': 0, 'MORE_ZWARN': 3200, 'MORE_ZGOOD': 3200}, 'numobs': 2}]\n",
      "  - [ELG,              1, \"ELG\", {'obsconditions': 'DARK|GRAY', 'priorities': {'UNOBS': 3000, 'DONE': 2, 'OBS': 1, 'DONOTOBSERVE': 0, 'MORE_ZWARN': 3000, 'MORE_ZGOOD': 3000}, 'numobs': 1}]\n",
      "  - [QSO,              2, \"QSO\", {'obsconditions': 'DARK', 'priorities': {'UNOBS': 3400, 'MORE_ZGOOD': 3500, 'DONE': 2, 'OBS': 1, 'DONOTOBSERVE': 0, 'MORE_ZWARN': 3400}, 'numobs': 4}]\n",
      "  - [LRG_INIT,         3, \"LRG using initial optical and IR cuts\", {'obsconditions': 'DARK', 'priorities': {'UNOBS': 3200, 'DONE': 2, 'OBS': 1, 'DONOTOBSERVE': 0, 'MORE_ZWARN': 3200, 'MORE_ZGOOD': 3200}, 'numobs': 2}]\n",
      "  - [LRG_LOWZ,         4, \"LRG with a low-z extension\", {'obsconditions': 'DARK', 'priorities': {'UNOBS': 3200, 'DONE': 2, 'OBS': 1, 'DONOTOBSERVE': 0, 'MORE_ZWARN': 3200, 'MORE_ZGOOD': 3200}, 'numobs': 2}]\n",
      "  - [LRG_HIGHZ,        5, \"LRG with a high-z extenstion\", {'obsconditions': 'DARK', 'priorities': {'UNOBS': 3200, 'DONE': 2, 'OBS': 1, 'DONOTOBSERVE': 0, 'MORE_ZWARN': 3200, 'MORE_ZGOOD': 3200}, 'numobs': 2}]\n",
      "  - [LRG_RELAX,        6, \"LRG with a relaxed set of cuts\", {'obsconditions': 'DARK', 'priorities': {'UNOBS': 3200, 'DONE': 2, 'OBS': 1, 'DONOTOBSERVE': 0, 'MORE_ZWARN': 3200, 'MORE_ZGOOD': 3200}, 'numobs': 2}]\n",
      "  - [LRG_SUPER,        7, \"LRG that is a superset of other cuts\", {'obsconditions': 'DARK', 'priorities': {'UNOBS': 3200, 'DONE': 2, 'OBS': 1, 'DONOTOBSERVE': 0, 'MORE_ZWARN': 3200, 'MORE_ZGOOD': 3200}, 'numobs': 2}]\n",
      "  - [ELG_FDR,          8, \"ELG using FDR cuts\", {'obsconditions': 'DARK|GRAY', 'priorities': {'UNOBS': 3000, 'DONE': 2, 'OBS': 1, 'DONOTOBSERVE': 0, 'MORE_ZWARN': 3000, 'MORE_ZGOOD': 3000}, 'numobs': 1}]\n",
      "  - [ELG_FDR_FAINT,    9, \"ELG using fainter FDR cuts\", {'obsconditions': 'DARK|GRAY', 'priorities': {'UNOBS': 3000, 'DONE': 2, 'OBS': 1, 'DONOTOBSERVE': 0, 'MORE_ZWARN': 3000, 'MORE_ZGOOD': 3000}, 'numobs': 1}]\n",
      "  - [ELG_RZ_BLUE,     10, \"ELG blue extension in rz color\", {'obsconditions': 'DARK|GRAY', 'priorities': {'UNOBS': 3000, 'DONE': 2, 'OBS': 1, 'DONOTOBSERVE': 0, 'MORE_ZWARN': 3000, 'MORE_ZGOOD': 3000}, 'numobs': 1}]\n",
      "  - [ELG_RZ_RED,      11, \"ELG red extension in rz color\", {'obsconditions': 'DARK|GRAY', 'priorities': {'UNOBS': 3000, 'DONE': 2, 'OBS': 1, 'DONOTOBSERVE': 0, 'MORE_ZWARN': 3000, 'MORE_ZGOOD': 3000}, 'numobs': 1}]\n",
      "  - [QSO_COLOR_4PASS, 12, \"Low-z (tracer) QSO using color cuts\", {'obsconditions': 'DARK', 'priorities': {'UNOBS': 3400, 'MORE_ZGOOD': 3500, 'DONE': 2, 'OBS': 1, 'DONOTOBSERVE': 0, 'MORE_ZWARN': 3400}, 'numobs': 4}]\n",
      "  - [QSO_RF_4PASS,    13, \"Low-z (tracer) QSO using random forest\", {'obsconditions': 'DARK', 'priorities': {'UNOBS': 3400, 'MORE_ZGOOD': 3500, 'DONE': 2, 'OBS': 1, 'DONOTOBSERVE': 0, 'MORE_ZWARN': 3400}, 'numobs': 4}]\n",
      "  - [QSO_COLOR_8PASS, 14, \"High-z (Lyman-Alpha) QSO using color cuts\", {'obsconditions': 'DARK', 'priorities': {'UNOBS': 3400, 'MORE_ZGOOD': 3500, 'DONE': 2, 'OBS': 1, 'DONOTOBSERVE': 0, 'MORE_ZWARN': 3400}, 'numobs': 8}]\n",
      "  - [QSO_RF_8PASS,    15, \"High-z (Lyman-Alpha) QSO using random forest\", {'obsconditions': 'DARK', 'priorities': {'UNOBS': 3400, 'MORE_ZGOOD': 3500, 'DONE': 2, 'OBS': 1, 'DONOTOBSERVE': 0, 'MORE_ZWARN': 3400}, 'numobs': 8}]\n",
      "  - [QSO_HZ_F,        16, \"QSO at high-redshift and faint\", {'obsconditions': 'DARK', 'priorities': {'UNOBS': 3400, 'MORE_ZGOOD': 3500, 'DONE': 2, 'OBS': 1, 'DONOTOBSERVE': 0, 'MORE_ZWARN': 3400}, 'numobs': 4}]\n",
      "  - [LRG_NORTH,       17, \"LRG cuts tuned for Bok/Mosaic data\", {'obsconditions': 'DARK', 'priorities': {'UNOBS': 0, 'DONE': 0, 'OBS': 0, 'DONOTOBSERVE': 0, 'MORE_ZWARN': 0, 'MORE_ZGOOD': 0}, 'numobs': 0}]\n",
      "  - [ELG_NORTH,       18, \"ELG cuts tuned for Bok/Mosaic data\", {'obsconditions': 'DARK|GRAY', 'priorities': {'UNOBS': 0, 'DONE': 0, 'OBS': 0, 'DONOTOBSERVE': 0, 'MORE_ZWARN': 0, 'MORE_ZGOOD': 0}, 'numobs': 0}]\n",
      "  - [QSO_NORTH,       19, \"QSO cuts tuned for Bok/Mosaic data\", {'obsconditions': 'DARK', 'priorities': {'UNOBS': 3400, 'MORE_ZGOOD': 3500, 'DONE': 2, 'OBS': 1, 'DONOTOBSERVE': 0, 'MORE_ZWARN': 3400}, 'numobs': 0}]\n",
      "  - [LRG_SOUTH,       20, \"LRG cuts tuned for DECam data\", {'obsconditions': 'DARK', 'priorities': {'UNOBS': 0, 'DONE': 0, 'OBS': 0, 'DONOTOBSERVE': 0, 'MORE_ZWARN': 0, 'MORE_ZGOOD': 0}, 'numobs': 0}]\n",
      "  - [ELG_SOUTH,       21, \"ELG cuts tuned for DECam data\", {'obsconditions': 'DARK|GRAY', 'priorities': {'UNOBS': 0, 'DONE': 0, 'OBS': 0, 'DONOTOBSERVE': 0, 'MORE_ZWARN': 0, 'MORE_ZGOOD': 0}, 'numobs': 0}]\n",
      "  - [QSO_SOUTH,       22, \"QSO cuts tuned for DECam data\", {'obsconditions': 'DARK', 'priorities': {'UNOBS': 3400, 'MORE_ZGOOD': 3500, 'DONE': 2, 'OBS': 1, 'DONOTOBSERVE': 0, 'MORE_ZWARN': 3400}, 'numobs': 0}]\n",
      "  - [LRG_INIT_NORTH,  23, \"LRG using initial optical and IR cuts tuned for Bok/Mosaic\", {'obsconditions': 'DARK', 'priorities': {'UNOBS': 0, 'DONE': 0, 'OBS': 0, 'DONOTOBSERVE': 0, 'MORE_ZWARN': 0, 'MORE_ZGOOD': 0}, 'numobs': 0}]\n",
      "  - [LRG_LOWZ_NORTH,  24, \"LRG with a low-z extension tuned for Bok/Mosaic\", {'obsconditions': 'DARK', 'priorities': {'UNOBS': 0, 'DONE': 0, 'OBS': 0, 'DONOTOBSERVE': 0, 'MORE_ZWARN': 0, 'MORE_ZGOOD': 0}, 'numobs': 0}]\n",
      "  - [LRG_HIGHZ_NORTH, 25, \"LRG with a high-z extenstion tuned for Bok/Mosaic\", {'obsconditions': 'DARK', 'priorities': {'UNOBS': 0, 'DONE': 0, 'OBS': 0, 'DONOTOBSERVE': 0, 'MORE_ZWARN': 0, 'MORE_ZGOOD': 0}, 'numobs': 0}]\n",
      "  - [LRG_RELAX_NORTH, 26, \"LRG with a relaxed set of cuts tuned for Bok/Mosaic\", {'obsconditions': 'DARK', 'priorities': {'UNOBS': 0, 'DONE': 0, 'OBS': 0, 'DONOTOBSERVE': 0, 'MORE_ZWARN': 0, 'MORE_ZGOOD': 0}, 'numobs': 0}]\n",
      "  - [LRG_SUPER_NORTH, 27, \"LRG that is a superset of other cuts tuned for Bok/Mosaic\", {'obsconditions': 'DARK', 'priorities': {'UNOBS': 0, 'DONE': 0, 'OBS': 0, 'DONOTOBSERVE': 0, 'MORE_ZWARN': 0, 'MORE_ZGOOD': 0}, 'numobs': 0}]\n",
      "  - [LRG_INIT_SOUTH,  28, \"LRG using initial optical and IR cuts tuned for DECam\", {'obsconditions': 'DARK', 'priorities': {'UNOBS': 0, 'DONE': 0, 'OBS': 0, 'DONOTOBSERVE': 0, 'MORE_ZWARN': 0, 'MORE_ZGOOD': 0}, 'numobs': 0}]\n",
      "  - [LRG_LOWZ_SOUTH,  29, \"LRG with a low-z extension tuned for DECam\", {'obsconditions': 'DARK', 'priorities': {'UNOBS': 0, 'DONE': 0, 'OBS': 0, 'DONOTOBSERVE': 0, 'MORE_ZWARN': 0, 'MORE_ZGOOD': 0}, 'numobs': 0}]\n",
      "  - [LRG_HIGHZ_SOUTH, 30, \"LRG with a high-z extenstion tuned for DECam\", {'obsconditions': 'DARK', 'priorities': {'UNOBS': 0, 'DONE': 0, 'OBS': 0, 'DONOTOBSERVE': 0, 'MORE_ZWARN': 0, 'MORE_ZGOOD': 0}, 'numobs': 0}]\n",
      "  - [LRG_RELAX_SOUTH, 31, \"LRG with a relaxed set of cuts tuned for DECam\", {'obsconditions': 'DARK', 'priorities': {'UNOBS': 0, 'DONE': 0, 'OBS': 0, 'DONOTOBSERVE': 0, 'MORE_ZWARN': 0, 'MORE_ZGOOD': 0}, 'numobs': 0}]\n",
      "  - [SKY,             32, \"Blank sky locations\", {'obsconditions': 'DARK|GRAY|BRIGHT|POOR|TWILIGHT12|TWILIGHT18', 'priorities': {}, 'numobs': -1}]\n",
      "  - [STD_FAINT,       33, \"Standard stars for dark/gray conditions\", {'obsconditions': 'DARK|GRAY', 'priorities': {}, 'numobs': -1}]\n",
      "  - [STD_WD,          34, \"White Dwarf stars\", {'obsconditions': 'DARK|GRAY|BRIGHT', 'priorities': {}, 'numobs': -1}]\n",
      "  - [STD_BRIGHT,      35, \"Standard stars for BRIGHT conditions\", {'obsconditions': 'BRIGHT', 'priorities': {}, 'numobs': -1}]\n",
      "  - [BAD_SKY,         36, \"Blank sky locations that are imperfect but still useable\", {'obsconditions': 'DARK|GRAY|BRIGHT|POOR|TWILIGHT12|TWILIGHT18', 'priorities': {'UNOBS': 0, 'OBS': 0, 'DONE': 0, 'MORE_ZWARN': 0, 'MORE_ZGOOD': 0, 'DONOTOBSERVE': 1}, 'numobs': 0}]\n",
      "  - [LRG_SUPER_SOUTH, 37, \"LRG that is a superset of other cuts tuned for DECam\", {'obsconditions': 'DARK', 'priorities': {'UNOBS': 0, 'DONE': 0, 'OBS': 0, 'DONOTOBSERVE': 0, 'MORE_ZWARN': 0, 'MORE_ZGOOD': 0}, 'numobs': 0}]\n",
      "  - [ELG_FDR_NORTH,   38, \"ELG using FDR cuts tuned for Bok/Mosaic\", {'obsconditions': 'DARK|GRAY', 'priorities': {'UNOBS': 0, 'DONE': 0, 'OBS': 0, 'DONOTOBSERVE': 0, 'MORE_ZWARN': 0, 'MORE_ZGOOD': 0}, 'numobs': 0}]\n",
      "  - [ELG_FDR_FAINT_NORTH, 39, \"ELG using fainter FDR cuts tuned for Bok/Mosaic\", {'obsconditions': 'DARK|GRAY', 'priorities': {'UNOBS': 0, 'DONE': 0, 'OBS': 0, 'DONOTOBSERVE': 0, 'MORE_ZWARN': 0, 'MORE_ZGOOD': 0}, 'numobs': 0}]\n",
      "  - [ELG_RZ_BLUE_NORTH, 40, \"ELG blue extension in rz color tuned for Bok/Mosaic\", {'obsconditions': 'DARK|GRAY', 'priorities': {'UNOBS': 0, 'DONE': 0, 'OBS': 0, 'DONOTOBSERVE': 0, 'MORE_ZWARN': 0, 'MORE_ZGOOD': 0}, 'numobs': 0}]\n",
      "  - [ELG_RZ_RED_NORTH, 41, \"ELG red extension in rz color tuned for Bok/Mosaic\", {'obsconditions': 'DARK|GRAY', 'priorities': {'UNOBS': 0, 'DONE': 0, 'OBS': 0, 'DONOTOBSERVE': 0, 'MORE_ZWARN': 0, 'MORE_ZGOOD': 0}, 'numobs': 0}]\n",
      "  - [ELG_FDR_SOUTH,   42, \"ELG using FDR cuts tuned for DECam\", {'obsconditions': 'DARK|GRAY', 'priorities': {'UNOBS': 0, 'DONE': 0, 'OBS': 0, 'DONOTOBSERVE': 0, 'MORE_ZWARN': 0, 'MORE_ZGOOD': 0}, 'numobs': 0}]\n",
      "  - [ELG_FDR_FAINT_SOUTH, 43, \"ELG using fainter FDR tuned for DECam\", {'obsconditions': 'DARK|GRAY', 'priorities': {'UNOBS': 0, 'DONE': 0, 'OBS': 0, 'DONOTOBSERVE': 0, 'MORE_ZWARN': 0, 'MORE_ZGOOD': 0}, 'numobs': 0}]\n",
      "  - [ELG_RZ_BLUE_SOUTH, 44, \"ELG blue extension in rz color tuned for DECam\", {'obsconditions': 'DARK|GRAY', 'priorities': {'UNOBS': 0, 'DONE': 0, 'OBS': 0, 'DONOTOBSERVE': 0, 'MORE_ZWARN': 0, 'MORE_ZGOOD': 0}, 'numobs': 0}]\n",
      "  - [ELG_RZ_RED_SOUTH, 45, \"ELG red extension in rz color tuned for DECam\", {'obsconditions': 'DARK|GRAY', 'priorities': {'UNOBS': 0, 'DONE': 0, 'OBS': 0, 'DONOTOBSERVE': 0, 'MORE_ZWARN': 0, 'MORE_ZGOOD': 0}, 'numobs': 0}]\n",
      "  - [QSO_COLOR_4PASS_NORTH, 46, \"Low-z (tracer) QSO using color cuts tuned for Bok/Mosaic\", {'obsconditions': 'DARK', 'priorities': {'UNOBS': 3400, 'MORE_ZGOOD': 3500, 'DONE': 2, 'OBS': 1, 'DONOTOBSERVE': 0, 'MORE_ZWARN': 3400}, 'numobs': 0}]\n",
      "  - [QSO_RF_4PASS_NORTH, 47, \"Low-z (tracer) QSO using random forest tuned for Bok/Mosaic\", {'obsconditions': 'DARK', 'priorities': {'UNOBS': 3400, 'MORE_ZGOOD': 3500, 'DONE': 2, 'OBS': 1, 'DONOTOBSERVE': 0, 'MORE_ZWARN': 3400}, 'numobs': 0}]\n",
      "  - [QSO_COLOR_8PASS_NORTH, 48, \"High-z (Lyman-Alpha) QSO using color cuts tuned for Bok/Mosaic\", {'obsconditions': 'DARK', 'priorities': {'UNOBS': 3400, 'MORE_ZGOOD': 3500, 'DONE': 2, 'OBS': 1, 'DONOTOBSERVE': 0, 'MORE_ZWARN': 3400}, 'numobs': 0}]\n",
      "  - [NO_TARGET,       49, \"No known target at this location\", {'obsconditions': 'DARK|GRAY|BRIGHT|POOR|TWILIGHT12|TWILIGHT18', 'priorities': {}, 'numobs': -1}]\n",
      "  - [BRIGHT_OBJECT,   50, \"Known bright object to avoid\", {'obsconditions': 'APOCALYPSE', 'priorities': {}, 'numobs': -1}]\n",
      "  - [IN_BRIGHT_OBJECT, 51, \"Too near a bright object; DO NOT OBSERVE\", {'obsconditions': 'APOCALYPSE', 'priorities': {}, 'numobs': -1}]\n",
      "  - [NEAR_BRIGHT_OBJECT, 52, \"Near a bright object but ok to observe\", {'obsconditions': 'DARK|GRAY|BRIGHT|POOR|TWILIGHT12|TWILIGHT18', 'priorities': {}, 'numobs': -1}]\n",
      "  - [QSO_RF_8PASS_NORTH, 53, \"High-z (Lyman-Alpha) QSO using random forest tuned for Bok/Mosaic\", {'obsconditions': 'DARK', 'priorities': {'UNOBS': 3400, 'MORE_ZGOOD': 3500, 'DONE': 2, 'OBS': 1, 'DONOTOBSERVE': 0, 'MORE_ZWARN': 3400}, 'numobs': 0}]\n",
      "  - [QSO_HZ_F_NORTH,  54, \"QSO at high-redshift and faint tuned for Bok/Mosaic\", {'obsconditions': 'DARK', 'priorities': {'UNOBS': 3400, 'MORE_ZGOOD': 3500, 'DONE': 2, 'OBS': 1, 'DONOTOBSERVE': 0, 'MORE_ZWARN': 3400}, 'numobs': 0}]\n",
      "  - [QSO_COLOR_4PASS_SOUTH, 55, \"Low-z (tracer) QSO using color cuts tuned for DECam\", {'obsconditions': 'DARK', 'priorities': {'UNOBS': 3400, 'MORE_ZGOOD': 3500, 'DONE': 2, 'OBS': 1, 'DONOTOBSERVE': 0, 'MORE_ZWARN': 3400}, 'numobs': 0}]\n",
      "  - [QSO_RF_4PASS_SOUTH, 56, \"Low-z (tracer) QSO using random forest tuned for DECam\", {'obsconditions': 'DARK', 'priorities': {'UNOBS': 3400, 'MORE_ZGOOD': 3500, 'DONE': 2, 'OBS': 1, 'DONOTOBSERVE': 0, 'MORE_ZWARN': 3400}, 'numobs': 0}]\n",
      "  - [QSO_COLOR_8PASS_SOUTH, 57, \"High-z (Lyman-Alpha) QSO using color cuts tuned for DECam\", {'obsconditions': 'DARK', 'priorities': {'UNOBS': 3400, 'MORE_ZGOOD': 3500, 'DONE': 2, 'OBS': 1, 'DONOTOBSERVE': 0, 'MORE_ZWARN': 3400}, 'numobs': 0}]\n",
      "  - [QSO_RF_8PASS_SOUTH, 58, \"High-z (Lyman-Alpha) QSO using random forest tuned for DECam\", {'obsconditions': 'DARK', 'priorities': {'UNOBS': 3400, 'MORE_ZGOOD': 3500, 'DONE': 2, 'OBS': 1, 'DONOTOBSERVE': 0, 'MORE_ZWARN': 3400}, 'numobs': 0}]\n",
      "  - [QSO_HZ_F_SOUTH,  59, \"QSO at high-redshift and faint tuned for DECam\", {'obsconditions': 'DARK', 'priorities': {'UNOBS': 3400, 'MORE_ZGOOD': 3500, 'DONE': 2, 'OBS': 1, 'DONOTOBSERVE': 0, 'MORE_ZWARN': 3400}, 'numobs': 0}]\n",
      "  - [BGS_ANY,         60, \"Any BGS bit is set\", {'obsconditions': 'BRIGHT', 'priorities': {}, 'numobs': -1}]\n",
      "  - [MWS_ANY,         61, \"Any MWS bit is set\", {'obsconditions': 'BRIGHT', 'priorities': {}, 'numobs': -1}]\n",
      "  - [SCND_ANY,        62, \"Any secondary bit is set\", {'obsconditions': 'DARK|GRAY|BRIGHT|POOR|TWILIGHT12|TWILIGHT18', 'priorities': {}, 'numobs': -1}]\n"
     ]
    }
   ],
   "source": [
    "print(desi_mask)"
   ]
  },
  {
   "cell_type": "markdown",
   "metadata": {},
   "source": [
    "# An advanced example#\n",
    "\n",
    "As a challenge, let's try to find all quasar targets that are close to an LRG target using our example file of targets.\n",
    "\n",
    "First, let's retrieve all LRG and QSO targets from our file."
   ]
  },
  {
   "cell_type": "code",
   "execution_count": 153,
   "metadata": {},
   "outputs": [],
   "source": [
    "from desitarget.targets import desi_mask\n",
    "isLRG = (targs[\"DESI_TARGET\"] & desi_mask[\"LRG\"]) != 0\n",
    "isQSO = (targs[\"DESI_TARGET\"] & desi_mask[\"QSO\"]) != 0\n",
    "lrgs, qsos = targs[isLRG], targs[isQSO]"
   ]
  },
  {
   "cell_type": "code",
   "execution_count": 154,
   "metadata": {},
   "outputs": [
    {
     "name": "stdout",
     "output_type": "stream",
     "text": [
      "['ELG', 'QSO', 'ELG_NORTH', 'QSO_NORTH', 'ELG_SOUTH', 'QSO_SOUTH']\n",
      "['QSO', 'QSO_NORTH', 'QSO_SOUTH']\n",
      "['QSO', 'QSO_NORTH', 'QSO_SOUTH']\n",
      "['QSO', 'QSO_NORTH', 'QSO_SOUTH']\n",
      "['QSO', 'QSO_NORTH', 'QSO_SOUTH']\n",
      "['QSO', 'QSO_NORTH', 'QSO_SOUTH']\n",
      "['QSO', 'QSO_NORTH', 'QSO_SOUTH']\n",
      "['QSO', 'QSO_NORTH', 'QSO_SOUTH']\n",
      "['QSO', 'QSO_NORTH', 'QSO_SOUTH']\n",
      "['QSO', 'QSO_NORTH', 'QSO_SOUTH']\n"
     ]
    }
   ],
   "source": [
    "# ADM a sanity check.\n",
    "for qso in qsos[:10]:\n",
    "    print(desi_mask.names(qso[\"DESI_TARGET\"]))"
   ]
  },
  {
   "cell_type": "markdown",
   "metadata": {},
   "source": [
    "We'll need the astropy spatial matching functions:"
   ]
  },
  {
   "cell_type": "code",
   "execution_count": 155,
   "metadata": {},
   "outputs": [],
   "source": [
    "from astropy.coordinates import SkyCoord\n",
    "from astropy import units as u"
   ]
  },
  {
   "cell_type": "markdown",
   "metadata": {},
   "source": [
    "Convert the lrgs and quasars to SkyCoord objects:"
   ]
  },
  {
   "cell_type": "code",
   "execution_count": 156,
   "metadata": {},
   "outputs": [],
   "source": [
    "clrgs = SkyCoord(lrgs[\"RA\"], lrgs[\"DEC\"], unit='degree')\n",
    "cqsos = SkyCoord(qsos[\"RA\"], qsos[\"DEC\"], unit='degree')"
   ]
  },
  {
   "cell_type": "markdown",
   "metadata": {},
   "source": [
    "Perform the match. Let's choose a radius of 1 arcminute:"
   ]
  },
  {
   "cell_type": "code",
   "execution_count": 157,
   "metadata": {},
   "outputs": [],
   "source": [
    "matchrad = 20*u.arcsec\n",
    "idlrgs, idqsos, sep, _ = cqsos.search_around_sky(clrgs, matchrad)"
   ]
  },
  {
   "cell_type": "markdown",
   "metadata": {},
   "source": [
    "Finally, write out the matching lrgs and quasars, and the distance between them:"
   ]
  },
  {
   "cell_type": "code",
   "execution_count": 158,
   "metadata": {},
   "outputs": [
    {
     "name": "stdout",
     "output_type": "stream",
     "text": [
      "LRG coordinates: 338.9023 deg, -0.3676 deg\n",
      "QSO coordinates: 338.9003 deg, -0.3627 deg\n",
      "Angular separation: 18.8160 arcsec\n",
      "LRG coordinates: 338.9433 deg, -0.3250 deg\n",
      "QSO coordinates: 338.9396 deg, -0.3270 deg\n",
      "Angular separation: 15.2783 arcsec\n"
     ]
    }
   ],
   "source": [
    "lrgmatch, qsomatch = lrgs[idlrgs], qsos[idqsos]\n",
    "for i in range(len(lrgmatch)):\n",
    "    print(\"LRG coordinates: {:.4f} deg, {:.4f} deg\".format(lrgmatch[i][\"RA\"], lrgmatch[i][\"DEC\"]))\n",
    "    print(\"QSO coordinates: {:.4f} deg, {:.4f} deg\".format(qsomatch[i][\"RA\"], qsomatch[i][\"DEC\"]))\n",
    "    print(\"Angular separation: {:.4f} arcsec\".format(sep.value[i]*3600))"
   ]
  },
  {
   "cell_type": "markdown",
   "metadata": {},
   "source": [
    "So, there are a couple of LRG targets within 20 arcseconds of a quasar target."
   ]
  }
 ],
 "metadata": {
  "kernelspec": {
   "display_name": "DESI development",
   "language": "python",
   "name": "desi-development"
  },
  "language_info": {
   "codemirror_mode": {
    "name": "ipython",
    "version": 3
   },
   "file_extension": ".py",
   "mimetype": "text/x-python",
   "name": "python",
   "nbconvert_exporter": "python",
   "pygments_lexer": "ipython3",
   "version": "3.6.6"
  }
 },
 "nbformat": 4,
 "nbformat_minor": 4
}
